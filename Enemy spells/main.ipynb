{
 "cells": [
  {
   "cell_type": "code",
   "execution_count": 5,
   "id": "b2afb232",
   "metadata": {},
   "outputs": [],
   "source": [
    "import Spells\n",
    "import Monster\n",
    "import numpy as np"
   ]
  },
  {
   "cell_type": "code",
   "execution_count": 42,
   "id": "6a6d4a89",
   "metadata": {},
   "outputs": [],
   "source": [
    "Spell_List=Spells.get_spell_list_for_class(\"Wizard\")\n",
    "Monster_spells=Monster.monster_spells()\n",
    "\n",
    "\n",
    "all_spells=[str(spells.lower()) for spells in np.transpose(Spell_List)[0]]\n",
    "\n",
    "Wizard_Monster_spells=[]\n",
    "for spells in Monster_spells:\n",
    "    temp=[]\n",
    "    for spell in spells:\n",
    "        spell=spell.lower()\n",
    "        spell=spell.split(\"*\")[0]\n",
    "        if spell in all_spells:\n",
    "            temp.append(spell)\n",
    "    Wizard_Monster_spells.append(temp)\n",
    "            "
   ]
  },
  {
   "cell_type": "code",
   "execution_count": 68,
   "id": "99f2f17d",
   "metadata": {},
   "outputs": [],
   "source": [
    "from collections import Counter\n",
    "\n",
    "All_Monster_Spells=[]\n",
    "for i in Wizard_Monster_spells:\n",
    "    All_Monster_Spells=All_Monster_Spells+i\n",
    "\n",
    "\n",
    "\n",
    "monster_counter = Counter(All_Monster_Spells)\n",
    "all_spells_wizard_counts = {spell: monster_counter.get(spell, 0) for spell in all_spells}\n",
    "\n",
    "\n",
    "\n"
   ]
  },
  {
   "cell_type": "code",
   "execution_count": 72,
   "id": "07a3f20f",
   "metadata": {},
   "outputs": [
    {
     "name": "stdout",
     "output_type": "stream",
     "text": [
      "Saved to sorted_all_spells_wizard_counts.txt\n"
     ]
    }
   ],
   "source": [
    "# sort spells by count (descending)\n",
    "sorted_all_spells_wizard_counts = sorted(all_spells_wizard_counts.items(), key=lambda kv: kv[1])\n",
    "sorted_all_spells_wizard_counts\n",
    "\n",
    "with open('sorted_all_spells_wizard_counts.txt', 'w', encoding='utf-8') as f:\n",
    "    for spell, count in sorted_all_spells_wizard_counts:\n",
    "        f.write(f\"{spell}\\t{count}\\n\")\n",
    "print(\"Saved to sorted_all_spells_wizard_counts.txt\")"
   ]
  },
  {
   "cell_type": "code",
   "execution_count": null,
   "id": "eafad169",
   "metadata": {},
   "outputs": [],
   "source": []
  }
 ],
 "metadata": {
  "language_info": {
   "name": "python"
  }
 },
 "nbformat": 4,
 "nbformat_minor": 5
}
