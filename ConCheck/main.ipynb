{
 "cells": [
  {
   "cell_type": "code",
   "execution_count": 1,
   "metadata": {},
   "outputs": [
    {
     "data": {
      "image/png": "[encoded data removed]",
      "text/plain": [
       "<Figure size 640x480 with 1 Axes>"
      ]
     },
     "metadata": {},
     "output_type": "display_data"
    },
    {
     "name": "stdout",
     "output_type": "stream",
     "text": [
      "205.0\n"
     ]
    }
   ],
   "source": [
    "import random\n",
    "import numpy as np\n",
    "import matplotlib.pyplot as plt\n",
    "ConSave=6\n",
    "DC=10\n",
    "\n",
    "RollsUntilDropCon=[]\n",
    "for j in range(0,10000):\n",
    "    for i in range(0,10000):\n",
    "        Roll1=random.randint(1,20)\n",
    "        Roll2=random.randint(1,20)\n",
    "        FinalRoll=np.maximum(Roll1,Roll2)+ConSave\n",
    "        \n",
    "        if FinalRoll<10:\n",
    "            FinalRoll=random.randint(1,20)+ConSave\n",
    "\n",
    "        if FinalRoll<10:\n",
    "            RollsUntilDropCon.append(i)\n",
    "            break\n",
    "\n",
    "plt.hist(RollsUntilDropCon, bins=30, alpha=0.5, color='b', edgecolor='black', linewidth=1.2)\n",
    "plt.xlabel(\"Veces que te pegaron sin que botarai concentracion\")\n",
    "plt.show()\n",
    "\n",
    "print(np.median(RollsUntilDropCon))\n",
    "\n",
    "\n",
    "\n"
   ]
  },
  {
   "cell_type": "code",
   "execution_count": 10,
   "metadata": {},
   "outputs": [
    {
     "name": "stdout",
     "output_type": "stream",
     "text": [
      "hola\n"
     ]
    }
   ],
   "source": [
    "x=5\n",
    "\n",
    "if x==5:\n",
    "    print(\"hola\")\n",
    "elif x==5:\n",
    "    print(\"hola\")"
   ]
  },
  {
   "cell_type": "code",
   "execution_count": 1,
   "metadata": {},
   "outputs": [],
   "source": [
    "import numpy as np"
   ]
  },
  {
   "cell_type": "code",
   "execution_count": 2,
   "metadata": {},
   "outputs": [
    {
     "name": "stdout",
     "output_type": "stream",
     "text": [
      "The wavelength is 6e-07 meters.\n"
     ]
    }
   ],
   "source": [
    "# Speed of light in m/s\n",
    "c = 3e8  \n",
    "\n",
    "# Frequency in Hz (example value, replace with your own)\n",
    "frequency = 5e14  \n",
    "\n",
    "# Calculate wavelength\n",
    "wavelength = c / frequency\n",
    "print(f\"The wavelength is {wavelength} meters.\")"
   ]
  },
  {
   "cell_type": "code",
   "execution_count": 4,
   "metadata": {},
   "outputs": [
    {
     "data": {
      "text/plain": [
       "30841.4"
      ]
     },
     "execution_count": 4,
     "metadata": {},
     "output_type": "execute_result"
    }
   ],
   "source": [
    "6562*(1+3.7)"
   ]
  },
  {
   "cell_type": "code",
   "execution_count": null,
   "metadata": {},
   "outputs": [],
   "source": []
  },
  {
   "cell_type": "code",
   "execution_count": null,
   "metadata": {},
   "outputs": [],
   "source": []
  }
 ],
 "metadata": {
  "kernelspec": {
   "display_name": "Python 3",
   "language": "python",
   "name": "python3"
  },
  "language_info": {
   "codemirror_mode": {
    "name": "ipython",
    "version": 3
   },
   "file_extension": ".py",
   "mimetype": "text/x-python",
   "name": "python",
   "nbconvert_exporter": "python",
   "pygments_lexer": "ipython3",
   "version": "3.11.9"
  }
 },
 "nbformat": 4,
 "nbformat_minor": 2
}
